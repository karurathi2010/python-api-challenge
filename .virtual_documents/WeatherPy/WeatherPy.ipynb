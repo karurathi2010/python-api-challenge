


# Dependencies and Setup
import matplotlib.pyplot as plt
import pandas as pd
import numpy as np
import requests
import time
from scipy.stats import linregress

# Impor the OpenWeatherMap API key
from api_keys import weather_api_key

# Import citipy to determine the cities based on latitude and longitude
from citipy import citipy





# Empty list for holding the latitude and longitude combinations
lat_lngs = []

# Empty list for holding the cities names
cities = []

# Range of latitudes and longitudes
lat_range = (-90, 90)
lng_range = (-180, 180)

# Create a set of random lat and lng combinations
lats = np.random.uniform(lat_range[0], lat_range[1], size=1500)
lngs = np.random.uniform(lng_range[0], lng_range[1], size=1500)
lat_lngs = zip(lats, lngs)

# Identify nearest city for each lat, lng combination
for lat_lng in lat_lngs:
    city = citipy.nearest_city(lat_lng[0], lat_lng[1]).city_name
    
    # If the city is unique, then add it to a our cities list
    if city not in cities:
        cities.append(city)

# Print the city count to confirm sufficient count
print(f"Number of cities in the list: {len(cities)}")








# Set the API base URL
url = "https://api.openweathermap.org/data/2.5/weather?"

# Define an empty list to fetch the weather data for each city
city_data = []

# Print to logger
print("Beginning Data Retrieval     ")
print("-----------------------------")

# Create counters
record_count = 1
set_count = 1

# Loop through all the cities in our list to fetch weather data
for i, city in enumerate(cities):
        
    # Group cities in sets of 50 for logging purposes
    if (i % 50 == 0 and i >= 50):
        set_count += 1
        record_count = 0

    # Create endpoint URL with each city
   
    city_url = url+"appid="+weather_api_key+"&q="+city
    
    # Log the url, record, and set numbers
    print("Processing Record %s of Set %s | %s" % (record_count, set_count, city))

    # Add 1 to the record count
    record_count += 1

    # Run an API request for each of the cities
    try:
        # Parse the JSON and retrieve data
        city_weather = (requests.get(city_url)).json()

        # Parse out latitude, longitude, max temp, humidity, cloudiness, wind speed, country, and date
        city_lat = city_weather["coord"]["lat"]
        city_lng = city_weather["coord"]["lon"]
        city_max_temp = city_weather["main"]["temp_max"]
        city_humidity = city_weather["main"]["humidity"]
        city_clouds =  city_weather["clouds"]["all"]
        city_wind = city_weather["wind"]["speed"]
        city_country = city_weather["sys"]["country"]
        city_date = city_weather["dt"]

        # Append the City information into city_data list
        city_data.append({"City": city, 
                          "Lat": city_lat, 
                          "Lng": city_lng, 
                          "Max Temp": city_max_temp,
                          "Humidity": city_humidity,
                          "Cloudiness": city_clouds,
                          "Wind Speed": city_wind,
                          "Country": city_country,
                          "Date": city_date})

    # If an error is experienced, skip the city
    except:
        print("City not found. Skipping...")
        pass
              
# Indicate that Data Loading is complete 
print("-----------------------------")
print("Data Retrieval Complete      ")
print("-----------------------------")


# Convert the cities weather data into a Pandas DataFrame
city_data_df =pd.DataFrame.from_dict(city_data)
# Show Record Count
city_data_df.count()
city_data_df['Date'] = pd.to_datetime( city_data_df['Date'],unit='s')
city_data_df['Date']=city_data_df['Date'].dt.date
city_data_df


# Display sample data
city_data_df["Max Temp"] = city_data_df["Max Temp"].apply(lambda x: (x -273.15))
city_data_df.head()


# Export the City_Data into a csv
#!mkdir output_data
city_data_df.to_csv("output_data/cities.csv", index_label="City_ID")


# Read saved data
city_data_df = pd.read_csv("output_data/cities.csv", index_col="City_ID")
#city_data_df['Date'] = city_data_df['Date'].apply(lambda x: pd.to_datetime(str(x),format='%Y%m%d'))

# Display sample data
city_data_df.head()







# Build scatter plot for latitude vs. temperature
plt.scatter(city_data_df["Lat"],city_data_df["Max Temp"],edgecolors="black")

# Incorporate the other graph properties
plt.grid()
plt.xlabel("Latitude")
plt.ylabel("Max Temperature (C)")
plt.title("City Max Latitude Vs. Temperature "  + "("+ city_data_df['Date'][0]+")")
# Save the figure
plt.savefig("output_data/Fig1.png")

# Show plot
plt.show()





# Build the scatter plots for latitude vs. humidity
plt.scatter(city_data_df["Lat"],city_data_df["Humidity"],edgecolors="black")

# Incorporate the other graph properties
plt.grid()
plt.xlabel("Latitude")
plt.ylabel("Humidity (%)")
plt.title("City Latitude Vs. Humidity "  + "("+ city_data_df['Date'][0]+")")

# Save the figure
plt.savefig("output_data/Fig2.png")

# Show plot
plt.show()





# Build the scatter plots for latitude vs. cloudiness
plt.scatter(city_data_df["Lat"],city_data_df["Cloudiness"],edgecolors="black")

# Incorporate the other graph properties
plt.grid()
plt.xlabel("Latitude")
plt.ylabel("Cloudiness (%)")
plt.title("City Latitude Vs. Cloudiness "  + "("+ city_data_df['Date'][0]+")")
# Save the figure
plt.savefig("output_data/Fig3.png")

# Show plot
plt.show()





# Build the scatter plots for latitude vs. wind speed
plt.scatter(city_data_df["Lat"],city_data_df["Wind Speed"],edgecolors="black")

# Incorporate the other graph properties
plt.grid()
plt.xlabel("Latitude")
plt.ylabel("Wind Speed (m/s)")
plt.title("City Latitude Vs. Wind Speed " + "("+ city_data_df['Date'][0]+")")
# Save the figure
plt.savefig("output_data/Fig4.png")

# Show plot
plt.show()





# Define a function to create Linear Regression plots
def regression(x_value,y_value):
    (slope , intercept,rvalue,pvalue,stderr) = linregress(x_value,y_value)
    line_value=x_value * slope + intercept
    line_eq="y="+str(round(slope,2))+"x +"+str(round(intercept,2))
    plt.plot(x_value,line_value,"r-")
    plt.annotate(line_eq,(np.mean(x_value),np.min(y_value)),fontsize=15,color="red")
    #plt.annotate(line_eq,(20,250),fontsize=15,color="red")



# Create a DataFrame with the Northern Hemisphere data (Latitude >= 0)
northern_hemi_df=city_data_df.loc[city_data_df["Lat"]>=0]
# Display sample data
northern_hemi_df.head()


# Create a DataFrame with the Southern Hemisphere data (Latitude < 0)
southern_hemi_df=city_data_df.loc[city_data_df["Lat"]<0]

# Display sample data
southern_hemi_df.head()





# Linear regression on Northern Hemisphere

x_value=northern_hemi_df["Lat"]
y_value=northern_hemi_df["Max Temp"]
rvalue=linregress(x_value,y_value)
print(f"The r-value is:{rvalue[2]}")
plt.scatter(x_value,y_value)
regression(x_value,y_value)
plt.xlabel("Latitude")
plt.ylabel("Max Temperature (c)")
plt.show()



# Linear regression on Southern Hemisphere
x_value=southern_hemi_df["Lat"]
y_value=southern_hemi_df["Max Temp"]
rvalue=linregress(x_value,y_value)
print(f"The r-value is:{rvalue[2]}")
plt.scatter(x_value,y_value)
regression(x_value,y_value)
plt.xlabel("Latitude")
plt.ylabel("Max Temperature (c)")
plt.show()








# Northern Hemisphere
x_value=northern_hemi_df["Lat"]
y_value=northern_hemi_df["Humidity"]
rvalue=linregress(x_value,y_value)
print(f"The r-value is:{rvalue[2]}")
plt.scatter(x_value,y_value)
regression(x_value,y_value)
plt.xlabel("Latitude")
plt.ylabel("Humidity")
plt.show()


# Southern Hemisphere
x_value=southern_hemi_df["Lat"]
y_value=southern_hemi_df["Humidity"]
rvalue=linregress(x_value,y_value)
print(f"The r-value is:{rvalue[2]}")
plt.scatter(x_value,y_value)
regression(x_value,y_value)
plt.xlabel("Latitude")
plt.ylabel("Humidity")
plt.show()








# Northern Hemisphere
x_value=northern_hemi_df["Lat"]
y_value=northern_hemi_df["Cloudiness"]
rvalue=linregress(x_value,y_value)
print(f"The r-value is:{rvalue[2]}")
plt.scatter(x_value,y_value)
regression(x_value,y_value)
plt.xlabel("Latitude")
plt.ylabel("Cloudiness")
plt.show()


# Southern Hemisphere
x_value=southern_hemi_df["Lat"]
y_value=southern_hemi_df["Cloudiness"]
rvalue=linregress(x_value,y_value)
print(f"The r-value is:{rvalue[2]}")
plt.scatter(x_value,y_value)
regression(x_value,y_value)
plt.xlabel("Latitude")
plt.ylabel("Cloudiness")
plt.show()








# Northern Hemisphere
x_value=northern_hemi_df["Lat"]
y_value=northern_hemi_df["Wind Speed"]
rvalue=linregress(x_value,y_value)
print(f"The r-value is:{rvalue[2]}")
plt.scatter(x_value,y_value)
regression(x_value,y_value)
plt.xlabel("Latitude")
plt.ylabel("Wind Speed")
plt.show()


# Southern Hemisphere
x_value=southern_hemi_df["Lat"]
y_value=southern_hemi_df["Wind Speed"]
rvalue=linregress(x_value,y_value)
print(f"The r-value is:{rvalue[2]}")
plt.scatter(x_value,y_value)
regression(x_value,y_value)
plt.xlabel("Latitude")
plt.ylabel("Wind Speed")
plt.show()






